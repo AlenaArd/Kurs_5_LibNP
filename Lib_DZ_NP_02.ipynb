{
 "cells": [
  {
   "cell_type": "code",
   "execution_count": 1,
   "id": "3ebf04f7",
   "metadata": {},
   "outputs": [],
   "source": [
    "import numpy as np"
   ]
  },
  {
   "cell_type": "markdown",
   "id": "7db8f4fd",
   "metadata": {},
   "source": [
    "Задание_1\n",
    "Импортируйте библиотеку Numpy и дайте ей псевдоним np.\n",
    "Создайте массив Numpy под названием a размером 5x2, то есть состоящий из 5 строк и 2 столбцов. \n",
    "Первый столбец должен содержать числа 1, 2, 3, 3, 1, \n",
    "а второй - числа 6, 8, 11, 10, 7. \n",
    "Будем считать, что каждый столбец - это признак, а строка - наблюдение. \n",
    "Затем найдите среднее значение по каждому признаку, используя метод mean массива Numpy. \n",
    "Результат запишите в массив mean_a, в нем должно быть 2 элемента"
   ]
  },
  {
   "cell_type": "code",
   "execution_count": 2,
   "id": "b695d8b4",
   "metadata": {},
   "outputs": [
    {
     "data": {
      "text/plain": [
       "array([[ 1,  6],\n",
       "       [ 2,  8],\n",
       "       [ 3, 11],\n",
       "       [ 3, 10],\n",
       "       [ 1,  7]])"
      ]
     },
     "execution_count": 2,
     "metadata": {},
     "output_type": "execute_result"
    }
   ],
   "source": [
    "F = np.array([[1, 2, 3, 3, 1],\n",
    "              [6, 8, 11, 10, 7]])\n",
    "A = F.T\n",
    "A\n"
   ]
  },
  {
   "cell_type": "code",
   "execution_count": 4,
   "id": "decc89a9",
   "metadata": {},
   "outputs": [
    {
     "name": "stdout",
     "output_type": "stream",
     "text": [
      "Средние значения строк (наблюдений): [3.5 5.  7.  6.5 4. ]\n",
      "Средние значения столбцов (признака): [2.  8.4]\n"
     ]
    }
   ],
   "source": [
    "print(\"Средние значения строк (наблюдений): {}\".format(A.mean(axis=1)))\n",
    "\n",
    "print(\"Средние значения столбцов (признака): {}\".format(A.mean(axis=0)))"
   ]
  },
  {
   "cell_type": "code",
   "execution_count": 7,
   "id": "fedf661b",
   "metadata": {},
   "outputs": [
    {
     "name": "stdout",
     "output_type": "stream",
     "text": [
      "Ответ: средние среднее значение по каждому признаку [2.  8.4]\n"
     ]
    }
   ],
   "source": [
    "mean_a = A.mean(axis=0)\n",
    "print(\"Ответ: средние среднее значение по каждому признаку\", mean_a)\n"
   ]
  },
  {
   "cell_type": "markdown",
   "id": "3e1c9d22",
   "metadata": {},
   "source": [
    "Задание_2\n",
    "Вычислите массив a_centered, отняв от значений массива “а” средние значения соответствующих признаков, \n",
    "содержащиеся в массиве mean_a. Вычисление должно производиться в одно действие. \n",
    "Получившийся массив должен иметь размер 5x2."
   ]
  },
  {
   "cell_type": "code",
   "execution_count": 10,
   "id": "fb14d8f1",
   "metadata": {},
   "outputs": [
    {
     "name": "stdout",
     "output_type": "stream",
     "text": [
      "Ответ: Концепция broadcasting даст результат, a_centered =\n"
     ]
    },
    {
     "data": {
      "text/plain": [
       "array([[-1. , -2.4],\n",
       "       [ 0. , -0.4],\n",
       "       [ 1. ,  2.6],\n",
       "       [ 1. ,  1.6],\n",
       "       [-1. , -1.4]])"
      ]
     },
     "execution_count": 10,
     "metadata": {},
     "output_type": "execute_result"
    }
   ],
   "source": [
    "a_centered = A - mean_a\n",
    "print(\"Ответ: Концепция broadcasting даст результат, a_centered =\")\n",
    "a_centered"
   ]
  },
  {
   "cell_type": "markdown",
   "id": "63582d73",
   "metadata": {},
   "source": [
    "Задание_3\n",
    "Найдите скалярное произведение столбцов массива a_centered. В результате должна получиться величина a_centered_sp. \n",
    "Затем поделите a_centered_sp на N-1, где N - число наблюдений."
   ]
  },
  {
   "cell_type": "code",
   "execution_count": 11,
   "id": "e97a7032",
   "metadata": {},
   "outputs": [
    {
     "data": {
      "text/plain": [
       "5"
      ]
     },
     "execution_count": 11,
     "metadata": {},
     "output_type": "execute_result"
    }
   ],
   "source": [
    "Nd = A.shape\n",
    "N = Nd[0]\n",
    "N\n"
   ]
  },
  {
   "cell_type": "code",
   "execution_count": 13,
   "id": "2ad7647c",
   "metadata": {},
   "outputs": [
    {
     "data": {
      "text/plain": [
       "(array([-1.,  0.,  1.,  1., -1.]), array([-2.4, -0.4,  2.6,  1.6, -1.4]))"
      ]
     },
     "execution_count": 13,
     "metadata": {},
     "output_type": "execute_result"
    }
   ],
   "source": [
    "a_centered_1 = a_centered.T[0]\n",
    "a_centered_2 = a_centered.T[1]\n",
    "a_centered_1, a_centered_2"
   ]
  },
  {
   "cell_type": "code",
   "execution_count": 16,
   "id": "45510756",
   "metadata": {},
   "outputs": [
    {
     "name": "stdout",
     "output_type": "stream",
     "text": [
      "скалярное произведение столбцов массива a_centered 8.0\n",
      "результат деления a_centered_sp на N-1, a_centered_sp = 2.0\n"
     ]
    }
   ],
   "source": [
    "ap= np.dot(a_centered_1, a_centered_2)\n",
    "a_centered_sp = ap / (N-1)\n",
    "print(\"скалярное произведение столбцов массива a_centered\", ap)\n",
    "print(\"результат деления a_centered_sp на N-1, a_centered_sp =\", a_centered_sp)"
   ]
  },
  {
   "cell_type": "markdown",
   "id": "c71f89b0",
   "metadata": {},
   "source": [
    "Задание_4** \n",
    "Число, которое мы получили в конце задания 3 является ковариацией двух признаков, содержащихся в массиве “а”. \n",
    "В задании 4 мы делили сумму произведений центрированных признаков на N-1, а не на N, поэтому \n",
    "полученная нами величина является несмещенной оценкой ковариации.\n",
    "Подробнее узнать о ковариации можно здесь:\n",
    "Выборочная ковариация и выборочная дисперсия — Студопедия\n",
    "В этом задании проверьте получившееся число, вычислив ковариацию еще одним способом - с помощью функции np.cov. \n",
    "В качестве аргумента m функция np.cov должна принимать транспонированный массив “a”. В получившейся ковариационной матрице (массив Numpy размером 2x2) искомое значение ковариации будет равно элементу в строке с индексом 0 и столбце с индексом 1."
   ]
  },
  {
   "cell_type": "code",
   "execution_count": 21,
   "id": "d835bf8f",
   "metadata": {},
   "outputs": [
    {
     "data": {
      "text/plain": [
       "(array([1, 2, 3, 3, 1]), array([ 6,  8, 11, 10,  7]))"
      ]
     },
     "execution_count": 21,
     "metadata": {},
     "output_type": "execute_result"
    }
   ],
   "source": [
    "A_0= F[0]\n",
    "A_1= F[1]\n",
    "A_0, A_1"
   ]
  },
  {
   "cell_type": "code",
   "execution_count": 22,
   "id": "1235829b",
   "metadata": {},
   "outputs": [
    {
     "name": "stdout",
     "output_type": "stream",
     "text": [
      "2.0\n"
     ]
    }
   ],
   "source": [
    "covariance = np.cov(A_0, A_1)[0][1]\n",
    "print(covariance)"
   ]
  },
  {
   "cell_type": "code",
   "execution_count": 38,
   "id": "b7d0d4c0",
   "metadata": {},
   "outputs": [
    {
     "data": {
      "text/plain": [
       "2.0"
      ]
     },
     "execution_count": 38,
     "metadata": {},
     "output_type": "execute_result"
    }
   ],
   "source": [
    "#ковариация этих двух величин: без использования специальных функций \n",
    "m_0 = np.mean(A_0) \n",
    "m_1 = np.mean(A_1) \n",
    "cov = ((A_0 - m_0) * (A_1 - m_1)).sum() / (A_0.shape[0] - 1)\n",
    "cov"
   ]
  },
  {
   "cell_type": "code",
   "execution_count": null,
   "id": "cb738eb3",
   "metadata": {},
   "outputs": [],
   "source": []
  }
 ],
 "metadata": {
  "kernelspec": {
   "display_name": "Python 3",
   "language": "python",
   "name": "python3"
  },
  "language_info": {
   "codemirror_mode": {
    "name": "ipython",
    "version": 3
   },
   "file_extension": ".py",
   "mimetype": "text/x-python",
   "name": "python",
   "nbconvert_exporter": "python",
   "pygments_lexer": "ipython3",
   "version": "3.8.8"
  }
 },
 "nbformat": 4,
 "nbformat_minor": 5
}
